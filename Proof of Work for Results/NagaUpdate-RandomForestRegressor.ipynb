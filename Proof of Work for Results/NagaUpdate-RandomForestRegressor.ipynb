{
 "cells": [
  {
   "cell_type": "code",
   "execution_count": 1,
   "metadata": {},
   "outputs": [],
   "source": [
    "import pandas as pd\n",
    "import numpy as np\n",
    "from sklearn.model_selection import train_test_split\n",
    "from sklearn.ensemble import RandomForestRegressor\n",
    "from sklearn.metrics import mean_absolute_error\n",
    "from sklearn.metrics import mean_squared_error\n",
    "from sklearn.metrics import r2_score\n",
    "import matplotlib.pyplot as plt\n",
    "from sklearn.metrics import confusion_matrix\n",
    "from sklearn.model_selection import cross_val_score\n",
    "from sklearn.model_selection import KFold\n",
    "from sklearn.model_selection import RandomizedSearchCV"
   ]
  },
  {
   "cell_type": "code",
   "execution_count": 58,
   "metadata": {},
   "outputs": [],
   "source": [
    "data = pd.read_csv('Data.csv')\n",
    "data_pred = pd.read_csv('database.csv')"
   ]
  },
  {
   "cell_type": "code",
   "execution_count": 59,
   "metadata": {},
   "outputs": [
    {
     "data": {
      "text/html": [
       "<div>\n",
       "<style scoped>\n",
       "    .dataframe tbody tr th:only-of-type {\n",
       "        vertical-align: middle;\n",
       "    }\n",
       "\n",
       "    .dataframe tbody tr th {\n",
       "        vertical-align: top;\n",
       "    }\n",
       "\n",
       "    .dataframe thead th {\n",
       "        text-align: right;\n",
       "    }\n",
       "</style>\n",
       "<table border=\"1\" class=\"dataframe\">\n",
       "  <thead>\n",
       "    <tr style=\"text-align: right;\">\n",
       "      <th></th>\n",
       "      <th>Cutting  speed (rpm)</th>\n",
       "      <th>Feed rate (mm/min)</th>\n",
       "      <th>Radial depth of cut(mm)</th>\n",
       "      <th>Tool wear\\nTWmax</th>\n",
       "    </tr>\n",
       "  </thead>\n",
       "  <tbody>\n",
       "    <tr>\n",
       "      <th>0</th>\n",
       "      <td>200</td>\n",
       "      <td>100</td>\n",
       "      <td>1.5</td>\n",
       "      <td>0.379</td>\n",
       "    </tr>\n",
       "    <tr>\n",
       "      <th>1</th>\n",
       "      <td>200</td>\n",
       "      <td>150</td>\n",
       "      <td>1.5</td>\n",
       "      <td>0.424</td>\n",
       "    </tr>\n",
       "    <tr>\n",
       "      <th>2</th>\n",
       "      <td>200</td>\n",
       "      <td>50</td>\n",
       "      <td>1.0</td>\n",
       "      <td>0.360</td>\n",
       "    </tr>\n",
       "    <tr>\n",
       "      <th>3</th>\n",
       "      <td>200</td>\n",
       "      <td>100</td>\n",
       "      <td>1.0</td>\n",
       "      <td>0.415</td>\n",
       "    </tr>\n",
       "    <tr>\n",
       "      <th>4</th>\n",
       "      <td>200</td>\n",
       "      <td>150</td>\n",
       "      <td>1.0</td>\n",
       "      <td>0.386</td>\n",
       "    </tr>\n",
       "  </tbody>\n",
       "</table>\n",
       "</div>"
      ],
      "text/plain": [
       "   Cutting  speed (rpm)  Feed rate (mm/min)  Radial depth of cut(mm)  \\\n",
       "0                   200                 100                      1.5   \n",
       "1                   200                 150                      1.5   \n",
       "2                   200                  50                      1.0   \n",
       "3                   200                 100                      1.0   \n",
       "4                   200                 150                      1.0   \n",
       "\n",
       "   Tool wear\\nTWmax  \n",
       "0             0.379  \n",
       "1             0.424  \n",
       "2             0.360  \n",
       "3             0.415  \n",
       "4             0.386  "
      ]
     },
     "execution_count": 59,
     "metadata": {},
     "output_type": "execute_result"
    }
   ],
   "source": [
    "data.head()\n"
   ]
  },
  {
   "cell_type": "code",
   "execution_count": 60,
   "metadata": {},
   "outputs": [
    {
     "data": {
      "text/plain": [
       "Index(['Cutting  speed (rpm)', 'Feed rate (mm/min)', 'Radial depth of cut(mm)',\n",
       "       'Tool wear\\nTWmax'],\n",
       "      dtype='object')"
      ]
     },
     "execution_count": 60,
     "metadata": {},
     "output_type": "execute_result"
    }
   ],
   "source": [
    "data.columns\n"
   ]
  },
  {
   "cell_type": "code",
   "execution_count": 61,
   "metadata": {},
   "outputs": [
    {
     "data": {
      "text/plain": [
       "Cutting  speed (rpm)       0\n",
       "Feed rate (mm/min)         0\n",
       "Radial depth of cut(mm)    0\n",
       "Tool wear\\nTWmax           0\n",
       "dtype: int64"
      ]
     },
     "execution_count": 61,
     "metadata": {},
     "output_type": "execute_result"
    }
   ],
   "source": [
    "data.isnull().sum()\n"
   ]
  },
  {
   "cell_type": "code",
   "execution_count": 62,
   "metadata": {
    "scrolled": true
   },
   "outputs": [],
   "source": [
    "X=data.drop(['Tool wear\\nTWmax'], axis=1)\n"
   ]
  },
  {
   "cell_type": "code",
   "execution_count": 63,
   "metadata": {
    "scrolled": true
   },
   "outputs": [],
   "source": [
    "y=data['Tool wear\\nTWmax']"
   ]
  },
  {
   "cell_type": "code",
   "execution_count": 70,
   "metadata": {},
   "outputs": [],
   "source": [
    "X_train, X_test, y_train, y_test = train_test_split(X, y, test_size=0.3, random_state=42)"
   ]
  },
  {
   "cell_type": "code",
   "execution_count": 71,
   "metadata": {},
   "outputs": [],
   "source": [
    "RF=RandomForestRegressor()\n",
    "RF= RF.fit(X_train , y_train)\n"
   ]
  },
  {
   "cell_type": "code",
   "execution_count": 72,
   "metadata": {},
   "outputs": [
    {
     "name": "stdout",
     "output_type": "stream",
     "text": [
      "Accuracy score on Test data= 0.8066\n",
      "Accuracy: 100.00% (0.00%)\n",
      "[1. 1. 1. 1. 1. 1. 1. 1. 1. 1.]\n",
      "Testing performance\n",
      "RMSE: 0.03\n",
      "R2: 0.81\n"
     ]
    }
   ],
   "source": [
    "print('Accuracy score on Test data= {:.4f}'.format(RF.score(X_test, y_test)))\n",
    "RF_k=RandomForestRegressor(n_estimators = 200, min_samples_split = 2, min_samples_leaf = 1, max_features = \"sqrt\" , max_depth = 50, bootstrap = True)\n",
    "cv = KFold(n_splits=10)\n",
    "scores = cross_val_score(RF_k, data_pred.drop(['Tool wear\\nTWmax'], axis=1), data_pred['Tool wear\\nTWmax'], cv=cv)\n",
    "print(\"Accuracy: %.2f%% (%.2f%%)\" % (scores.mean()*100, scores.std()*100))\n",
    "print(scores)\n",
    "pred=RF.predict(X_test)\n",
    "rmse = (np.sqrt(mean_squared_error(y_test, pred)))\n",
    "r2 = r2_score(y_test, pred)\n",
    "print(\"Testing performance\")\n",
    "print(\"RMSE: {:.2f}\".format(rmse))\n",
    "print(\"R2: {:.2f}\".format(r2))"
   ]
  },
  {
   "cell_type": "code",
   "execution_count": 34,
   "metadata": {},
   "outputs": [],
   "source": [
    "pred=RF.predict(X_test)\n",
    "comparison=pd.DataFrame()\n",
    "comparison['True Tool wear\\nTWmax']=y_test\n",
    "comparison['Predicted Tool wear\\nTWmax']=pred\n",
    "#comparison.to_csv(r'random_forest.csv', index = False, header=True)"
   ]
  },
  {
   "cell_type": "code",
   "execution_count": 35,
   "metadata": {},
   "outputs": [
    {
     "name": "stdout",
     "output_type": "stream",
     "text": [
      "{'n_estimators': [200, 400, 600, 800, 1000, 1200, 1400, 1600, 1800, 2000], 'max_features': ['auto', 'sqrt'], 'max_depth': [10, 20, 30, 40, 50, 60, 70, 80, 90, 100, 110, None], 'min_samples_split': [2, 5, 10], 'min_samples_leaf': [1, 2, 4], 'bootstrap': [True, False]}\n"
     ]
    }
   ],
   "source": [
    "# Number of trees in random forest\n",
    "n_estimators = [int(x) for x in np.linspace(start = 200, stop = 2000, num = 10)]\n",
    "# Number of features to consider at every split\n",
    "max_features = ['auto', 'sqrt']\n",
    "# Maximum number of levels in tree\n",
    "max_depth = [int(x) for x in np.linspace(10, 110, num = 11)]\n",
    "max_depth.append(None)\n",
    "# Minimum number of samples required to split a node\n",
    "min_samples_split = [2, 5, 10]\n",
    "# Minimum number of samples required at each leaf node\n",
    "min_samples_leaf = [1, 2, 4]\n",
    "# Method of selecting samples for training each tree\n",
    "bootstrap = [True, False]\n",
    "# Create the random grid\n",
    "random_grid = {'n_estimators': n_estimators,\n",
    "               'max_features': max_features,\n",
    "               'max_depth': max_depth,\n",
    "               'min_samples_split': min_samples_split,\n",
    "               'min_samples_leaf': min_samples_leaf,\n",
    "               'bootstrap': bootstrap}\n",
    "print(random_grid)"
   ]
  },
  {
   "cell_type": "code",
   "execution_count": 36,
   "metadata": {},
   "outputs": [
    {
     "name": "stdout",
     "output_type": "stream",
     "text": [
      "Fitting 3 folds for each of 100 candidates, totalling 300 fits\n"
     ]
    },
    {
     "name": "stderr",
     "output_type": "stream",
     "text": [
      "[Parallel(n_jobs=-1)]: Using backend LokyBackend with 12 concurrent workers.\n",
      "[Parallel(n_jobs=-1)]: Done  17 tasks      | elapsed:    3.2s\n",
      "[Parallel(n_jobs=-1)]: Done 138 tasks      | elapsed:   19.6s\n",
      "[Parallel(n_jobs=-1)]: Done 300 out of 300 | elapsed:   44.9s finished\n"
     ]
    },
    {
     "data": {
      "text/plain": [
       "RandomizedSearchCV(cv=3, estimator=RandomForestRegressor(), n_iter=100,\n",
       "                   n_jobs=-1,\n",
       "                   param_distributions={'bootstrap': [True, False],\n",
       "                                        'max_depth': [10, 20, 30, 40, 50, 60,\n",
       "                                                      70, 80, 90, 100, 110,\n",
       "                                                      None],\n",
       "                                        'max_features': ['auto', 'sqrt'],\n",
       "                                        'min_samples_leaf': [1, 2, 4],\n",
       "                                        'min_samples_split': [2, 5, 10],\n",
       "                                        'n_estimators': [200, 400, 600, 800,\n",
       "                                                         1000, 1200, 1400, 1600,\n",
       "                                                         1800, 2000]},\n",
       "                   random_state=42, verbose=2)"
      ]
     },
     "execution_count": 36,
     "metadata": {},
     "output_type": "execute_result"
    }
   ],
   "source": [
    "# Use the random grid to search for best hyperparameters\n",
    "# First create the base model to tune\n",
    "rf = RandomForestRegressor()\n",
    "# Random search of parameters, using 3 fold cross validation, \n",
    "# search across 100 different combinations, and use all available cores\n",
    "rf_random = RandomizedSearchCV(estimator = rf, param_distributions = random_grid, n_iter = 100, cv = 3, verbose=2, random_state=42, n_jobs = -1)\n",
    "\n",
    "rf_random.fit(X_train , y_train)"
   ]
  },
  {
   "cell_type": "code",
   "execution_count": 37,
   "metadata": {},
   "outputs": [
    {
     "name": "stdout",
     "output_type": "stream",
     "text": [
      "{'n_estimators': 400, 'min_samples_split': 2, 'min_samples_leaf': 1, 'max_features': 'sqrt', 'max_depth': None, 'bootstrap': False}\n"
     ]
    }
   ],
   "source": [
    "print(rf_random.best_params_)"
   ]
  },
  {
   "cell_type": "code",
   "execution_count": 74,
   "metadata": {},
   "outputs": [
    {
     "name": "stdout",
     "output_type": "stream",
     "text": [
      "Accuracy score on Test data= 0.9522\n"
     ]
    }
   ],
   "source": [
    "X_train, X_test, y_train, y_test = train_test_split(X, y, test_size=0.3, random_state=52)\n",
    "RF=RandomForestRegressor(n_estimators = 200, min_samples_split = 2, min_samples_leaf = 1, max_features = \"sqrt\" , max_depth = 50, bootstrap = True)\n",
    "RF= RF.fit(X_train , y_train)\n",
    "print('Accuracy score on Test data= {:.4f}'.format(RF.score(X_test, y_test)))\n",
    "pred=RF.predict(X_test)"
   ]
  },
  {
   "cell_type": "code",
   "execution_count": 75,
   "metadata": {},
   "outputs": [],
   "source": [
    "comparison['True Tool wear\\nTWmax']=y_test\n",
    "comparison['Predicted Tool wear\\nTWmax']=pred\n",
    "comparison['Std']=comparison.std(axis=1)"
   ]
  },
  {
   "cell_type": "code",
   "execution_count": 76,
   "metadata": {},
   "outputs": [
    {
     "name": "stdout",
     "output_type": "stream",
     "text": [
      "Testing performance\n",
      "RMSE: 0.01465\n",
      "R2: 0.95223\n"
     ]
    }
   ],
   "source": [
    "rmse = (np.sqrt(mean_squared_error(y_test, pred)))\n",
    "r2 = r2_score(y_test, pred)\n",
    "print(\"Testing performance\")\n",
    "print(\"RMSE: {:.5f}\".format(rmse))\n",
    "print(\"R2: {:.5f}\".format(r2))"
   ]
  },
  {
   "cell_type": "code",
   "execution_count": 77,
   "metadata": {
    "scrolled": true
   },
   "outputs": [
    {
     "name": "stdout",
     "output_type": "stream",
     "text": [
      "[0.99750381 0.99288693 0.9932481  0.9929184  0.99563637 0.99057699]\n"
     ]
    }
   ],
   "source": [
    "scores = cross_val_score(RF, X, y, cv=6)\n",
    "print(scores)"
   ]
  },
  {
   "cell_type": "code",
   "execution_count": 78,
   "metadata": {},
   "outputs": [
    {
     "data": {
      "image/png": "[encoded data removed]",
      "text/plain": [
       "<Figure size 1440x720 with 1 Axes>"
      ]
     },
     "metadata": {
      "needs_background": "light"
     },
     "output_type": "display_data"
    }
   ],
   "source": [
    "plt.figure(figsize=(20, 10))\n",
    "plt.subplot(1,1,1)\n",
    "plt.plot(comparison['True Tool wear\\nTWmax'].values,color='blue',label='true Tool wear\\nTWmax')\n",
    "plt.plot(comparison['Predicted Tool wear\\nTWmax'].values,color='yellow',label='Predictions Tool wear\\nTWmax')\n",
    "\n",
    "plt.title('Comparison of true and predictions Tool wear\\nTWmax')\n",
    "plt.ylabel('Accuracy')\n",
    "plt.legend(bbox_to_anchor=(1, 1))\n",
    "plt.show()"
   ]
  },
  {
   "cell_type": "code",
   "execution_count": 58,
   "metadata": {},
   "outputs": [
    {
     "name": "stdout",
     "output_type": "stream",
     "text": [
      "    True Tool wear\\nTWmax  Predicted Tool wear\\nTWmax       Std\n",
      "37                  0.324                    0.320620  0.002390\n",
      "62                  0.213                    0.236325  0.016493\n",
      "26                  0.415                    0.412560  0.001725\n",
      "41                  0.286                    0.284240  0.001245\n",
      "35                  0.213                    0.236325  0.016493\n",
      "25                  0.360                    0.361110  0.000785\n",
      "36                  0.445                    0.398910  0.032591\n",
      "33                  0.311                    0.317665  0.004713\n",
      "77                  0.379                    0.382825  0.002705\n",
      "21                  0.340                    0.335580  0.003125\n",
      "85                  0.316                    0.320320  0.003055\n",
      "50                  0.379                    0.382825  0.002705\n",
      "92                  0.330                    0.325565  0.003136\n",
      "69                  0.260                    0.267210  0.005098\n",
      "96                  0.260                    0.267210  0.005098\n",
      "78                  0.424                    0.422865  0.000803\n",
      "72                  0.296                    0.295530  0.000332\n",
      "5                   0.221                    0.254525  0.023706\n",
      "40                  0.226                    0.229065  0.002167\n",
      "11                  0.343                    0.339785  0.002273\n",
      "29                  0.312                    0.312835  0.000590\n",
      "83                  0.312                    0.312835  0.000590\n",
      "82                  0.221                    0.254525  0.023706\n",
      "43                  0.293                    0.291460  0.001089\n",
      "28                  0.221                    0.254525  0.023706\n",
      "22                  0.409                    0.400225  0.006205\n",
      "23                  0.379                    0.382825  0.002705\n",
      "90                  0.445                    0.398910  0.032591\n",
      "86                  0.359                    0.356945  0.001453\n",
      "20                  0.299                    0.292225  0.004791\n"
     ]
    }
   ],
   "source": [
    "comparison.to_csv(r'hyper_random_forest.csv', index = False, header=True)\n",
    "print(comparison)"
   ]
  },
  {
   "cell_type": "code",
   "execution_count": null,
   "metadata": {},
   "outputs": [],
   "source": []
  },
  {
   "cell_type": "code",
   "execution_count": null,
   "metadata": {},
   "outputs": [],
   "source": []
  }
 ],
 "metadata": {
  "kernelspec": {
   "display_name": "Python 3",
   "language": "python",
   "name": "python3"
  },
  "language_info": {
   "codemirror_mode": {
    "name": "ipython",
    "version": 3
   },
   "file_extension": ".py",
   "mimetype": "text/x-python",
   "name": "python",
   "nbconvert_exporter": "python",
   "pygments_lexer": "ipython3",
   "version": "3.8.3"
  }
 },
 "nbformat": 4,
 "nbformat_minor": 4
}
