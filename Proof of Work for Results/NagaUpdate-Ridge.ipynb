{
 "cells": [
  {
   "cell_type": "code",
   "execution_count": 1,
   "metadata": {},
   "outputs": [],
   "source": [
    "import pandas as pd\n",
    "import numpy as np\n",
    "from sklearn.model_selection import train_test_split\n",
    "from sklearn.ensemble import RandomForestRegressor\n",
    "from sklearn import linear_model\n",
    "from sklearn.linear_model import Ridge\n",
    "from sklearn.metrics import mean_absolute_error\n",
    "from sklearn.metrics import mean_squared_error\n",
    "from sklearn.metrics import r2_score\n",
    "import matplotlib.pyplot as plt\n",
    "from sklearn import preprocessing\n",
    "from sklearn.preprocessing import StandardScaler\n",
    "import numpy as np\n",
    "from sklearn.model_selection import KFold\n",
    "from sklearn.model_selection import cross_val_score\n",
    "from sklearn.metrics import mean_absolute_error\n",
    "from sklearn.metrics import mean_squared_error\n",
    "from sklearn.metrics import r2_score\n",
    "from sklearn.linear_model import LogisticRegression\n",
    "from sklearn.tree import DecisionTreeClassifier\n",
    "from sklearn.neighbors import KNeighborsClassifier\n",
    "from sklearn.discriminant_analysis import LinearDiscriminantAnalysis\n",
    "from sklearn.naive_bayes import GaussianNB\n",
    "from sklearn.svm import SVC"
   ]
  },
  {
   "cell_type": "code",
   "execution_count": 2,
   "metadata": {},
   "outputs": [],
   "source": [
    "data = pd.read_csv('Data.csv')\n"
   ]
  },
  {
   "cell_type": "code",
   "execution_count": 3,
   "metadata": {},
   "outputs": [
    {
     "data": {
      "text/html": [
       "<div>\n",
       "<style scoped>\n",
       "    .dataframe tbody tr th:only-of-type {\n",
       "        vertical-align: middle;\n",
       "    }\n",
       "\n",
       "    .dataframe tbody tr th {\n",
       "        vertical-align: top;\n",
       "    }\n",
       "\n",
       "    .dataframe thead th {\n",
       "        text-align: right;\n",
       "    }\n",
       "</style>\n",
       "<table border=\"1\" class=\"dataframe\">\n",
       "  <thead>\n",
       "    <tr style=\"text-align: right;\">\n",
       "      <th></th>\n",
       "      <th>Cutting  speed (rpm)</th>\n",
       "      <th>Feed rate (mm/min)</th>\n",
       "      <th>Radial depth of cut(mm)</th>\n",
       "      <th>Tool wear\\nTWmax</th>\n",
       "    </tr>\n",
       "  </thead>\n",
       "  <tbody>\n",
       "    <tr>\n",
       "      <th>0</th>\n",
       "      <td>200</td>\n",
       "      <td>100</td>\n",
       "      <td>1.5</td>\n",
       "      <td>0.379</td>\n",
       "    </tr>\n",
       "    <tr>\n",
       "      <th>1</th>\n",
       "      <td>200</td>\n",
       "      <td>150</td>\n",
       "      <td>1.5</td>\n",
       "      <td>0.424</td>\n",
       "    </tr>\n",
       "    <tr>\n",
       "      <th>2</th>\n",
       "      <td>200</td>\n",
       "      <td>50</td>\n",
       "      <td>1.0</td>\n",
       "      <td>0.360</td>\n",
       "    </tr>\n",
       "    <tr>\n",
       "      <th>3</th>\n",
       "      <td>200</td>\n",
       "      <td>100</td>\n",
       "      <td>1.0</td>\n",
       "      <td>0.415</td>\n",
       "    </tr>\n",
       "    <tr>\n",
       "      <th>4</th>\n",
       "      <td>200</td>\n",
       "      <td>150</td>\n",
       "      <td>1.0</td>\n",
       "      <td>0.386</td>\n",
       "    </tr>\n",
       "  </tbody>\n",
       "</table>\n",
       "</div>"
      ],
      "text/plain": [
       "   Cutting  speed (rpm)  Feed rate (mm/min)  Radial depth of cut(mm)  \\\n",
       "0                   200                 100                      1.5   \n",
       "1                   200                 150                      1.5   \n",
       "2                   200                  50                      1.0   \n",
       "3                   200                 100                      1.0   \n",
       "4                   200                 150                      1.0   \n",
       "\n",
       "   Tool wear\\nTWmax  \n",
       "0             0.379  \n",
       "1             0.424  \n",
       "2             0.360  \n",
       "3             0.415  \n",
       "4             0.386  "
      ]
     },
     "execution_count": 3,
     "metadata": {},
     "output_type": "execute_result"
    }
   ],
   "source": [
    "data.head()\n"
   ]
  },
  {
   "cell_type": "code",
   "execution_count": 4,
   "metadata": {},
   "outputs": [
    {
     "data": {
      "text/plain": [
       "Index(['Cutting  speed (rpm)', 'Feed rate (mm/min)', 'Radial depth of cut(mm)',\n",
       "       'Tool wear\\nTWmax'],\n",
       "      dtype='object')"
      ]
     },
     "execution_count": 4,
     "metadata": {},
     "output_type": "execute_result"
    }
   ],
   "source": [
    "data.columns\n"
   ]
  },
  {
   "cell_type": "code",
   "execution_count": 5,
   "metadata": {},
   "outputs": [
    {
     "data": {
      "text/plain": [
       "Cutting  speed (rpm)       0\n",
       "Feed rate (mm/min)         0\n",
       "Radial depth of cut(mm)    0\n",
       "Tool wear\\nTWmax           0\n",
       "dtype: int64"
      ]
     },
     "execution_count": 5,
     "metadata": {},
     "output_type": "execute_result"
    }
   ],
   "source": [
    "data.isnull().sum()\n"
   ]
  },
  {
   "cell_type": "code",
   "execution_count": 6,
   "metadata": {
    "scrolled": true
   },
   "outputs": [],
   "source": [
    "X=data.drop(['Tool wear\\nTWmax'], axis=1)"
   ]
  },
  {
   "cell_type": "code",
   "execution_count": 7,
   "metadata": {
    "scrolled": true
   },
   "outputs": [],
   "source": [
    "y=data['Tool wear\\nTWmax']"
   ]
  },
  {
   "cell_type": "code",
   "execution_count": 8,
   "metadata": {
    "scrolled": true
   },
   "outputs": [],
   "source": [
    "#MIN MAX SCALER\n",
    "#scaler = preprocessing.MinMaxScaler()\n",
    "#names = ['Cutting  speed (rpm)', 'Feed rate (mm/min)', 'Radial depth of cut(mm)']\n",
    "#d = scaler.fit_transform(X)\n",
    "#scaled_df = pd.DataFrame(d, columns=names)\n",
    "#scaled_df.head()\n",
    "scale_X= StandardScaler()\n",
    "scale_y= StandardScaler()\n",
    "\n",
    "X = scale_X.fit_transform(X)\n",
    "y = scale_y.fit_transform(y.values.reshape(-1, 1))"
   ]
  },
  {
   "cell_type": "code",
   "execution_count": 16,
   "metadata": {},
   "outputs": [],
   "source": [
    "X_train, X_test, y_train, y_test = train_test_split(X, y, test_size=0.2, random_state=52)"
   ]
  },
  {
   "cell_type": "raw",
   "metadata": {},
   "source": []
  },
  {
   "cell_type": "code",
   "execution_count": 21,
   "metadata": {},
   "outputs": [],
   "source": [
    "#coefs = []\n",
    "#for a in range(0,200):\n",
    "#    ridge = Ridge(alpha=a)\n",
    "#    ridge.fit(X_train , y_train)\n",
    "#    coefs.append(clf.score(X_test, y_test))\n",
    "clf_lasso = linear_model.Lasso(alpha = 0.1)\n",
    "clf_ridge = linear_model.Ridge(alpha = 0.1)\n",
    "clf_lasso= clf_lasso.fit(X_train , y_train)\n",
    "clf_ridge= clf_ridge.fit(X_train , y_train)"
   ]
  },
  {
   "cell_type": "code",
   "execution_count": 22,
   "metadata": {},
   "outputs": [
    {
     "name": "stdout",
     "output_type": "stream",
     "text": [
      "Accuracy of Lasso score on Test data= 0.1986\n",
      "Accuracy score of Ridge on Test data= 0.3119\n"
     ]
    }
   ],
   "source": [
    "print('Accuracy of Lasso score on Test data= {:.4f}'.format(clf_lasso.score(X_test, y_test)))\n",
    "print('Accuracy score of Ridge on Test data= {:.4f}'.format(clf_ridge.score(X_test, y_test)))"
   ]
  },
  {
   "cell_type": "code",
   "execution_count": 23,
   "metadata": {},
   "outputs": [
    {
     "name": "stdout",
     "output_type": "stream",
     "text": [
      "Testing performance Lasso\n",
      "RMSE: 0.9217\n",
      "R2: 0.1986\n",
      "Testing performance Ridge\n",
      "RMSE: 0.8541\n",
      "R2: 0.3119\n"
     ]
    }
   ],
   "source": [
    "pred=clf_lasso.predict(X_test)\n",
    "pred1=clf_ridge.predict(X_test)\n",
    "comparison=pd.DataFrame()\n",
    "\n",
    "rmse = (np.sqrt(mean_squared_error(y_test, pred)))\n",
    "r2 = r2_score(y_test, pred)\n",
    "print(\"Testing performance Lasso\")\n",
    "print(\"RMSE: {:.4f}\".format(rmse))\n",
    "print(\"R2: {:.4f}\".format(r2))\n",
    "\n",
    "\n",
    "rmse = (np.sqrt(mean_squared_error(y_test, pred1)))\n",
    "r2 = r2_score(y_test, pred1)\n",
    "print(\"Testing performance Ridge\")\n",
    "print(\"RMSE: {:.4f}\".format(rmse))\n",
    "print(\"R2: {:.4f}\".format(r2))"
   ]
  },
  {
   "cell_type": "code",
   "execution_count": 79,
   "metadata": {},
   "outputs": [],
   "source": [
    "comparison['True Tool wear\\nTWmax']=y_test.flatten()\n",
    "comparison['Predicted Tool wear\\nTWmax']=pred"
   ]
  },
  {
   "cell_type": "code",
   "execution_count": 80,
   "metadata": {},
   "outputs": [
    {
     "data": {
      "text/html": [
       "<div>\n",
       "<style scoped>\n",
       "    .dataframe tbody tr th:only-of-type {\n",
       "        vertical-align: middle;\n",
       "    }\n",
       "\n",
       "    .dataframe tbody tr th {\n",
       "        vertical-align: top;\n",
       "    }\n",
       "\n",
       "    .dataframe thead th {\n",
       "        text-align: right;\n",
       "    }\n",
       "</style>\n",
       "<table border=\"1\" class=\"dataframe\">\n",
       "  <thead>\n",
       "    <tr style=\"text-align: right;\">\n",
       "      <th></th>\n",
       "      <th>True Tool wear\\nTWmax</th>\n",
       "      <th>Predicted Tool wear\\nTWmax</th>\n",
       "    </tr>\n",
       "  </thead>\n",
       "  <tbody>\n",
       "    <tr>\n",
       "      <th>0</th>\n",
       "      <td>-1.630063</td>\n",
       "      <td>-0.114463</td>\n",
       "    </tr>\n",
       "    <tr>\n",
       "      <th>1</th>\n",
       "      <td>-0.099866</td>\n",
       "      <td>0.171271</td>\n",
       "    </tr>\n",
       "    <tr>\n",
       "      <th>2</th>\n",
       "      <td>-1.372345</td>\n",
       "      <td>-0.245468</td>\n",
       "    </tr>\n",
       "    <tr>\n",
       "      <th>3</th>\n",
       "      <td>-0.808589</td>\n",
       "      <td>-0.395263</td>\n",
       "    </tr>\n",
       "    <tr>\n",
       "      <th>4</th>\n",
       "      <td>0.608858</td>\n",
       "      <td>-0.111996</td>\n",
       "    </tr>\n",
       "    <tr>\n",
       "      <th>5</th>\n",
       "      <td>-0.808589</td>\n",
       "      <td>-0.395263</td>\n",
       "    </tr>\n",
       "    <tr>\n",
       "      <th>6</th>\n",
       "      <td>0.028993</td>\n",
       "      <td>0.166337</td>\n",
       "    </tr>\n",
       "    <tr>\n",
       "      <th>7</th>\n",
       "      <td>-1.758922</td>\n",
       "      <td>0.316132</td>\n",
       "    </tr>\n",
       "    <tr>\n",
       "      <th>8</th>\n",
       "      <td>-1.549526</td>\n",
       "      <td>-0.390329</td>\n",
       "    </tr>\n",
       "    <tr>\n",
       "      <th>9</th>\n",
       "      <td>-0.422012</td>\n",
       "      <td>-0.098141</td>\n",
       "    </tr>\n",
       "    <tr>\n",
       "      <th>10</th>\n",
       "      <td>1.027648</td>\n",
       "      <td>0.182659</td>\n",
       "    </tr>\n",
       "    <tr>\n",
       "      <th>11</th>\n",
       "      <td>0.125637</td>\n",
       "      <td>0.313665</td>\n",
       "    </tr>\n",
       "    <tr>\n",
       "      <th>12</th>\n",
       "      <td>-0.164295</td>\n",
       "      <td>0.032865</td>\n",
       "    </tr>\n",
       "    <tr>\n",
       "      <th>13</th>\n",
       "      <td>1.639727</td>\n",
       "      <td>0.185126</td>\n",
       "    </tr>\n",
       "    <tr>\n",
       "      <th>14</th>\n",
       "      <td>-0.583086</td>\n",
       "      <td>-0.243002</td>\n",
       "    </tr>\n",
       "    <tr>\n",
       "      <th>15</th>\n",
       "      <td>-0.019329</td>\n",
       "      <td>0.460993</td>\n",
       "    </tr>\n",
       "    <tr>\n",
       "      <th>16</th>\n",
       "      <td>1.977982</td>\n",
       "      <td>0.463459</td>\n",
       "    </tr>\n",
       "    <tr>\n",
       "      <th>17</th>\n",
       "      <td>0.657180</td>\n",
       "      <td>0.180193</td>\n",
       "    </tr>\n",
       "    <tr>\n",
       "      <th>18</th>\n",
       "      <td>1.027648</td>\n",
       "      <td>0.182659</td>\n",
       "    </tr>\n",
       "    <tr>\n",
       "      <th>19</th>\n",
       "      <td>-0.019329</td>\n",
       "      <td>0.460993</td>\n",
       "    </tr>\n",
       "  </tbody>\n",
       "</table>\n",
       "</div>"
      ],
      "text/plain": [
       "    True Tool wear\\nTWmax  Predicted Tool wear\\nTWmax\n",
       "0               -1.630063                   -0.114463\n",
       "1               -0.099866                    0.171271\n",
       "2               -1.372345                   -0.245468\n",
       "3               -0.808589                   -0.395263\n",
       "4                0.608858                   -0.111996\n",
       "5               -0.808589                   -0.395263\n",
       "6                0.028993                    0.166337\n",
       "7               -1.758922                    0.316132\n",
       "8               -1.549526                   -0.390329\n",
       "9               -0.422012                   -0.098141\n",
       "10               1.027648                    0.182659\n",
       "11               0.125637                    0.313665\n",
       "12              -0.164295                    0.032865\n",
       "13               1.639727                    0.185126\n",
       "14              -0.583086                   -0.243002\n",
       "15              -0.019329                    0.460993\n",
       "16               1.977982                    0.463459\n",
       "17               0.657180                    0.180193\n",
       "18               1.027648                    0.182659\n",
       "19              -0.019329                    0.460993"
      ]
     },
     "execution_count": 80,
     "metadata": {},
     "output_type": "execute_result"
    }
   ],
   "source": [
    "comparison"
   ]
  },
  {
   "cell_type": "code",
   "execution_count": 81,
   "metadata": {
    "scrolled": true
   },
   "outputs": [
    {
     "data": {
      "image/png": "[encoded data removed]",
      "text/plain": [
       "<Figure size 1440x720 with 1 Axes>"
      ]
     },
     "metadata": {
      "needs_background": "light"
     },
     "output_type": "display_data"
    }
   ],
   "source": [
    "plt.figure(figsize=(20, 10))\n",
    "plt.subplot(1,1,1)\n",
    "plt.plot(comparison['True Tool wear\\nTWmax'].values,color='blue',label='true Tool wear\\nTWmax')\n",
    "plt.plot(comparison['Predicted Tool wear\\nTWmax'].values,color='yellow',label='Predictions Tool wear\\nTWmax')\n",
    "\n",
    "plt.title('Comparison of true and predictions Tool wear\\nTWmax')\n",
    "plt.ylabel('Accuracy')\n",
    "plt.legend(bbox_to_anchor=(1, 1))\n",
    "plt.show()"
   ]
  },
  {
   "cell_type": "code",
   "execution_count": 82,
   "metadata": {},
   "outputs": [],
   "source": [
    "comparison.to_csv(r'hyper_random_forest.csv', index = False, header=True)"
   ]
  },
  {
   "cell_type": "code",
   "execution_count": 25,
   "metadata": {},
   "outputs": [
    {
     "data": {
      "text/plain": [
       "'\\nmodels = []\\nmodels.append((\\'LR\\', LogisticRegression()))\\nmodels.append((\\'LDA\\', LinearDiscriminantAnalysis()))\\nmodels.append((\\'KNN\\', KNeighborsClassifier()))\\nmodels.append((\\'CART\\', DecisionTreeClassifier()))\\nmodels.append((\\'NB\\', GaussianNB()))\\nmodels.append((\\'SVM\\', SVC()))\\n# evaluate each model in turn\\nresults = []\\nnames = []\\nscoring = \\'accuracy\\'\\nfor name, model in models:\\n    kfold = KFold(n_splits=10, random_state=7)\\n    cv_results = cross_val_score(model, X, y, cv=kfold, scoring=\"accuracy\")\\n    results.append(cv_results)\\n    names.append(name)\\n    msg = \"%s: %f (%f)\" % (name, cv_results.mean(), cv_results.std())\\n    print(msg)\\n# boxplot algorithm comparison\\nfig = plt.figure()\\nfig.suptitle(\\'Algorithm Comparison\\')\\nax = fig.add_subplot(111)\\nplt.boxplot(results)\\nax.set_xticklabels(names)\\nplt.show()\\n'"
      ]
     },
     "execution_count": 25,
     "metadata": {},
     "output_type": "execute_result"
    }
   ],
   "source": [
    "\"\"\"\n",
    "models = []\n",
    "models.append(('LR', LogisticRegression()))\n",
    "models.append(('LDA', LinearDiscriminantAnalysis()))\n",
    "models.append(('KNN', KNeighborsClassifier()))\n",
    "models.append(('CART', DecisionTreeClassifier()))\n",
    "models.append(('NB', GaussianNB()))\n",
    "models.append(('SVM', SVC()))\n",
    "# evaluate each model in turn\n",
    "results = []\n",
    "names = []\n",
    "scoring = 'accuracy'\n",
    "for name, model in models:\n",
    "    kfold = KFold(n_splits=10, random_state=7)\n",
    "    cv_results = cross_val_score(model, X, y, cv=kfold, scoring=\"accuracy\")\n",
    "    results.append(cv_results)\n",
    "    names.append(name)\n",
    "    msg = \"%s: %f (%f)\" % (name, cv_results.mean(), cv_results.std())\n",
    "    print(msg)\n",
    "# boxplot algorithm comparison\n",
    "fig = plt.figure()\n",
    "fig.suptitle('Algorithm Comparison')\n",
    "ax = fig.add_subplot(111)\n",
    "plt.boxplot(results)\n",
    "ax.set_xticklabels(names)\n",
    "plt.show()\n",
    "\"\"\""
   ]
  },
  {
   "cell_type": "code",
   "execution_count": null,
   "metadata": {},
   "outputs": [],
   "source": []
  }
 ],
 "metadata": {
  "kernelspec": {
   "display_name": "Python 3",
   "language": "python",
   "name": "python3"
  },
  "language_info": {
   "codemirror_mode": {
    "name": "ipython",
    "version": 3
   },
   "file_extension": ".py",
   "mimetype": "text/x-python",
   "name": "python",
   "nbconvert_exporter": "python",
   "pygments_lexer": "ipython3",
   "version": "3.8.3"
  }
 },
 "nbformat": 4,
 "nbformat_minor": 4
}
